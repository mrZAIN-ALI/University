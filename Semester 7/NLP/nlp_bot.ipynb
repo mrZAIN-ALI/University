{
  "nbformat": 4,
  "nbformat_minor": 0,
  "metadata": {
    "colab": {
      "provenance": []
    },
    "kernelspec": {
      "name": "python3",
      "display_name": "Python 3"
    },
    "language_info": {
      "name": "python"
    }
  },
  "cells": [
    {
      "cell_type": "code",
      "execution_count": 24,
      "metadata": {
        "colab": {
          "base_uri": "https://localhost:8080/"
        },
        "id": "0XIoxpxFg0XP",
        "outputId": "4e615f32-0d1f-4289-fa91-2f9b5a661046"
      },
      "outputs": [
        {
          "output_type": "stream",
          "name": "stdout",
          "text": [
            "Requirement already satisfied: langchain in /usr/local/lib/python3.10/dist-packages (0.3.13)\n",
            "Requirement already satisfied: PyYAML>=5.3 in /usr/local/lib/python3.10/dist-packages (from langchain) (6.0.2)\n",
            "Requirement already satisfied: SQLAlchemy<3,>=1.4 in /usr/local/lib/python3.10/dist-packages (from langchain) (2.0.36)\n",
            "Requirement already satisfied: aiohttp<4.0.0,>=3.8.3 in /usr/local/lib/python3.10/dist-packages (from langchain) (3.11.10)\n",
            "Requirement already satisfied: async-timeout<5.0.0,>=4.0.0 in /usr/local/lib/python3.10/dist-packages (from langchain) (4.0.3)\n",
            "Requirement already satisfied: langchain-core<0.4.0,>=0.3.26 in /usr/local/lib/python3.10/dist-packages (from langchain) (0.3.28)\n",
            "Requirement already satisfied: langchain-text-splitters<0.4.0,>=0.3.3 in /usr/local/lib/python3.10/dist-packages (from langchain) (0.3.3)\n",
            "Requirement already satisfied: langsmith<0.3,>=0.1.17 in /usr/local/lib/python3.10/dist-packages (from langchain) (0.2.3)\n",
            "Requirement already satisfied: numpy<2,>=1.22.4 in /usr/local/lib/python3.10/dist-packages (from langchain) (1.26.4)\n",
            "Requirement already satisfied: pydantic<3.0.0,>=2.7.4 in /usr/local/lib/python3.10/dist-packages (from langchain) (2.9.2)\n",
            "Requirement already satisfied: requests<3,>=2 in /usr/local/lib/python3.10/dist-packages (from langchain) (2.32.3)\n",
            "Requirement already satisfied: tenacity!=8.4.0,<10,>=8.1.0 in /usr/local/lib/python3.10/dist-packages (from langchain) (9.0.0)\n",
            "Requirement already satisfied: aiohappyeyeballs>=2.3.0 in /usr/local/lib/python3.10/dist-packages (from aiohttp<4.0.0,>=3.8.3->langchain) (2.4.4)\n",
            "Requirement already satisfied: aiosignal>=1.1.2 in /usr/local/lib/python3.10/dist-packages (from aiohttp<4.0.0,>=3.8.3->langchain) (1.3.2)\n",
            "Requirement already satisfied: attrs>=17.3.0 in /usr/local/lib/python3.10/dist-packages (from aiohttp<4.0.0,>=3.8.3->langchain) (24.3.0)\n",
            "Requirement already satisfied: frozenlist>=1.1.1 in /usr/local/lib/python3.10/dist-packages (from aiohttp<4.0.0,>=3.8.3->langchain) (1.5.0)\n",
            "Requirement already satisfied: multidict<7.0,>=4.5 in /usr/local/lib/python3.10/dist-packages (from aiohttp<4.0.0,>=3.8.3->langchain) (6.1.0)\n",
            "Requirement already satisfied: propcache>=0.2.0 in /usr/local/lib/python3.10/dist-packages (from aiohttp<4.0.0,>=3.8.3->langchain) (0.2.1)\n",
            "Requirement already satisfied: yarl<2.0,>=1.17.0 in /usr/local/lib/python3.10/dist-packages (from aiohttp<4.0.0,>=3.8.3->langchain) (1.18.3)\n",
            "Requirement already satisfied: jsonpatch<2.0,>=1.33 in /usr/local/lib/python3.10/dist-packages (from langchain-core<0.4.0,>=0.3.26->langchain) (1.33)\n",
            "Requirement already satisfied: packaging<25,>=23.2 in /usr/local/lib/python3.10/dist-packages (from langchain-core<0.4.0,>=0.3.26->langchain) (24.2)\n",
            "Requirement already satisfied: typing-extensions>=4.7 in /usr/local/lib/python3.10/dist-packages (from langchain-core<0.4.0,>=0.3.26->langchain) (4.12.2)\n",
            "Requirement already satisfied: httpx<1,>=0.23.0 in /usr/local/lib/python3.10/dist-packages (from langsmith<0.3,>=0.1.17->langchain) (0.28.1)\n",
            "Requirement already satisfied: orjson<4.0.0,>=3.9.14 in /usr/local/lib/python3.10/dist-packages (from langsmith<0.3,>=0.1.17->langchain) (3.10.12)\n",
            "Requirement already satisfied: requests-toolbelt<2.0.0,>=1.0.0 in /usr/local/lib/python3.10/dist-packages (from langsmith<0.3,>=0.1.17->langchain) (1.0.0)\n",
            "Requirement already satisfied: annotated-types>=0.6.0 in /usr/local/lib/python3.10/dist-packages (from pydantic<3.0.0,>=2.7.4->langchain) (0.7.0)\n",
            "Requirement already satisfied: pydantic-core==2.23.4 in /usr/local/lib/python3.10/dist-packages (from pydantic<3.0.0,>=2.7.4->langchain) (2.23.4)\n",
            "Requirement already satisfied: charset-normalizer<4,>=2 in /usr/local/lib/python3.10/dist-packages (from requests<3,>=2->langchain) (3.4.0)\n",
            "Requirement already satisfied: idna<4,>=2.5 in /usr/local/lib/python3.10/dist-packages (from requests<3,>=2->langchain) (3.10)\n",
            "Requirement already satisfied: urllib3<3,>=1.21.1 in /usr/local/lib/python3.10/dist-packages (from requests<3,>=2->langchain) (2.2.3)\n",
            "Requirement already satisfied: certifi>=2017.4.17 in /usr/local/lib/python3.10/dist-packages (from requests<3,>=2->langchain) (2024.12.14)\n",
            "Requirement already satisfied: greenlet!=0.4.17 in /usr/local/lib/python3.10/dist-packages (from SQLAlchemy<3,>=1.4->langchain) (3.1.1)\n",
            "Requirement already satisfied: anyio in /usr/local/lib/python3.10/dist-packages (from httpx<1,>=0.23.0->langsmith<0.3,>=0.1.17->langchain) (3.7.1)\n",
            "Requirement already satisfied: httpcore==1.* in /usr/local/lib/python3.10/dist-packages (from httpx<1,>=0.23.0->langsmith<0.3,>=0.1.17->langchain) (1.0.7)\n",
            "Requirement already satisfied: h11<0.15,>=0.13 in /usr/local/lib/python3.10/dist-packages (from httpcore==1.*->httpx<1,>=0.23.0->langsmith<0.3,>=0.1.17->langchain) (0.14.0)\n",
            "Requirement already satisfied: jsonpointer>=1.9 in /usr/local/lib/python3.10/dist-packages (from jsonpatch<2.0,>=1.33->langchain-core<0.4.0,>=0.3.26->langchain) (3.0.0)\n",
            "Requirement already satisfied: sniffio>=1.1 in /usr/local/lib/python3.10/dist-packages (from anyio->httpx<1,>=0.23.0->langsmith<0.3,>=0.1.17->langchain) (1.3.1)\n",
            "Requirement already satisfied: exceptiongroup in /usr/local/lib/python3.10/dist-packages (from anyio->httpx<1,>=0.23.0->langsmith<0.3,>=0.1.17->langchain) (1.2.2)\n",
            "Requirement already satisfied: faiss-cpu in /usr/local/lib/python3.10/dist-packages (1.9.0.post1)\n",
            "Requirement already satisfied: numpy<3.0,>=1.25.0 in /usr/local/lib/python3.10/dist-packages (from faiss-cpu) (1.26.4)\n",
            "Requirement already satisfied: packaging in /usr/local/lib/python3.10/dist-packages (from faiss-cpu) (24.2)\n",
            "Requirement already satisfied: sentence-transformers in /usr/local/lib/python3.10/dist-packages (3.3.1)\n",
            "Requirement already satisfied: transformers<5.0.0,>=4.41.0 in /usr/local/lib/python3.10/dist-packages (from sentence-transformers) (4.47.1)\n",
            "Requirement already satisfied: tqdm in /usr/local/lib/python3.10/dist-packages (from sentence-transformers) (4.67.1)\n",
            "Requirement already satisfied: torch>=1.11.0 in /usr/local/lib/python3.10/dist-packages (from sentence-transformers) (2.5.1+cu121)\n",
            "Requirement already satisfied: scikit-learn in /usr/local/lib/python3.10/dist-packages (from sentence-transformers) (1.6.0)\n",
            "Requirement already satisfied: scipy in /usr/local/lib/python3.10/dist-packages (from sentence-transformers) (1.13.1)\n",
            "Requirement already satisfied: huggingface-hub>=0.20.0 in /usr/local/lib/python3.10/dist-packages (from sentence-transformers) (0.27.0)\n",
            "Requirement already satisfied: Pillow in /usr/local/lib/python3.10/dist-packages (from sentence-transformers) (11.0.0)\n",
            "Requirement already satisfied: filelock in /usr/local/lib/python3.10/dist-packages (from huggingface-hub>=0.20.0->sentence-transformers) (3.16.1)\n",
            "Requirement already satisfied: fsspec>=2023.5.0 in /usr/local/lib/python3.10/dist-packages (from huggingface-hub>=0.20.0->sentence-transformers) (2024.10.0)\n",
            "Requirement already satisfied: packaging>=20.9 in /usr/local/lib/python3.10/dist-packages (from huggingface-hub>=0.20.0->sentence-transformers) (24.2)\n",
            "Requirement already satisfied: pyyaml>=5.1 in /usr/local/lib/python3.10/dist-packages (from huggingface-hub>=0.20.0->sentence-transformers) (6.0.2)\n",
            "Requirement already satisfied: requests in /usr/local/lib/python3.10/dist-packages (from huggingface-hub>=0.20.0->sentence-transformers) (2.32.3)\n",
            "Requirement already satisfied: typing-extensions>=3.7.4.3 in /usr/local/lib/python3.10/dist-packages (from huggingface-hub>=0.20.0->sentence-transformers) (4.12.2)\n",
            "Requirement already satisfied: networkx in /usr/local/lib/python3.10/dist-packages (from torch>=1.11.0->sentence-transformers) (3.4.2)\n",
            "Requirement already satisfied: jinja2 in /usr/local/lib/python3.10/dist-packages (from torch>=1.11.0->sentence-transformers) (3.1.4)\n",
            "Requirement already satisfied: sympy==1.13.1 in /usr/local/lib/python3.10/dist-packages (from torch>=1.11.0->sentence-transformers) (1.13.1)\n",
            "Requirement already satisfied: mpmath<1.4,>=1.1.0 in /usr/local/lib/python3.10/dist-packages (from sympy==1.13.1->torch>=1.11.0->sentence-transformers) (1.3.0)\n",
            "Requirement already satisfied: numpy>=1.17 in /usr/local/lib/python3.10/dist-packages (from transformers<5.0.0,>=4.41.0->sentence-transformers) (1.26.4)\n",
            "Requirement already satisfied: regex!=2019.12.17 in /usr/local/lib/python3.10/dist-packages (from transformers<5.0.0,>=4.41.0->sentence-transformers) (2024.11.6)\n",
            "Requirement already satisfied: tokenizers<0.22,>=0.21 in /usr/local/lib/python3.10/dist-packages (from transformers<5.0.0,>=4.41.0->sentence-transformers) (0.21.0)\n",
            "Requirement already satisfied: safetensors>=0.4.1 in /usr/local/lib/python3.10/dist-packages (from transformers<5.0.0,>=4.41.0->sentence-transformers) (0.4.5)\n",
            "Requirement already satisfied: joblib>=1.2.0 in /usr/local/lib/python3.10/dist-packages (from scikit-learn->sentence-transformers) (1.4.2)\n",
            "Requirement already satisfied: threadpoolctl>=3.1.0 in /usr/local/lib/python3.10/dist-packages (from scikit-learn->sentence-transformers) (3.5.0)\n",
            "Requirement already satisfied: MarkupSafe>=2.0 in /usr/local/lib/python3.10/dist-packages (from jinja2->torch>=1.11.0->sentence-transformers) (3.0.2)\n",
            "Requirement already satisfied: charset-normalizer<4,>=2 in /usr/local/lib/python3.10/dist-packages (from requests->huggingface-hub>=0.20.0->sentence-transformers) (3.4.0)\n",
            "Requirement already satisfied: idna<4,>=2.5 in /usr/local/lib/python3.10/dist-packages (from requests->huggingface-hub>=0.20.0->sentence-transformers) (3.10)\n",
            "Requirement already satisfied: urllib3<3,>=1.21.1 in /usr/local/lib/python3.10/dist-packages (from requests->huggingface-hub>=0.20.0->sentence-transformers) (2.2.3)\n",
            "Requirement already satisfied: certifi>=2017.4.17 in /usr/local/lib/python3.10/dist-packages (from requests->huggingface-hub>=0.20.0->sentence-transformers) (2024.12.14)\n",
            "Requirement already satisfied: transformers in /usr/local/lib/python3.10/dist-packages (4.47.1)\n",
            "Requirement already satisfied: filelock in /usr/local/lib/python3.10/dist-packages (from transformers) (3.16.1)\n",
            "Requirement already satisfied: huggingface-hub<1.0,>=0.24.0 in /usr/local/lib/python3.10/dist-packages (from transformers) (0.27.0)\n",
            "Requirement already satisfied: numpy>=1.17 in /usr/local/lib/python3.10/dist-packages (from transformers) (1.26.4)\n",
            "Requirement already satisfied: packaging>=20.0 in /usr/local/lib/python3.10/dist-packages (from transformers) (24.2)\n",
            "Requirement already satisfied: pyyaml>=5.1 in /usr/local/lib/python3.10/dist-packages (from transformers) (6.0.2)\n",
            "Requirement already satisfied: regex!=2019.12.17 in /usr/local/lib/python3.10/dist-packages (from transformers) (2024.11.6)\n",
            "Requirement already satisfied: requests in /usr/local/lib/python3.10/dist-packages (from transformers) (2.32.3)\n",
            "Requirement already satisfied: tokenizers<0.22,>=0.21 in /usr/local/lib/python3.10/dist-packages (from transformers) (0.21.0)\n",
            "Requirement already satisfied: safetensors>=0.4.1 in /usr/local/lib/python3.10/dist-packages (from transformers) (0.4.5)\n",
            "Requirement already satisfied: tqdm>=4.27 in /usr/local/lib/python3.10/dist-packages (from transformers) (4.67.1)\n",
            "Requirement already satisfied: fsspec>=2023.5.0 in /usr/local/lib/python3.10/dist-packages (from huggingface-hub<1.0,>=0.24.0->transformers) (2024.10.0)\n",
            "Requirement already satisfied: typing-extensions>=3.7.4.3 in /usr/local/lib/python3.10/dist-packages (from huggingface-hub<1.0,>=0.24.0->transformers) (4.12.2)\n",
            "Requirement already satisfied: charset-normalizer<4,>=2 in /usr/local/lib/python3.10/dist-packages (from requests->transformers) (3.4.0)\n",
            "Requirement already satisfied: idna<4,>=2.5 in /usr/local/lib/python3.10/dist-packages (from requests->transformers) (3.10)\n",
            "Requirement already satisfied: urllib3<3,>=1.21.1 in /usr/local/lib/python3.10/dist-packages (from requests->transformers) (2.2.3)\n",
            "Requirement already satisfied: certifi>=2017.4.17 in /usr/local/lib/python3.10/dist-packages (from requests->transformers) (2024.12.14)\n"
          ]
        }
      ],
      "source": [
        "!pip install langchain\n",
        "!pip install faiss-cpu\n",
        "!pip install sentence-transformers\n",
        "!pip install transformers\n"
      ]
    },
    {
      "cell_type": "code",
      "source": [
        "!pip install langchain-community\n"
      ],
      "metadata": {
        "id": "1DShlYx8hQkT"
      },
      "execution_count": null,
      "outputs": []
    },
    {
      "cell_type": "code",
      "source": [
        "import json\n"
      ],
      "metadata": {
        "id": "koU7lvDxhecj"
      },
      "execution_count": 5,
      "outputs": []
    },
    {
      "cell_type": "code",
      "source": [
        "import json\n",
        "\n",
        "# Load the JSON data\n",
        "with open('/content/data.json', 'r', encoding='utf-8') as file:\n",
        "    data = json.load(file)\n",
        "\n",
        "# Print the first district for preview\n",
        "print(data[0]['district'])  # Check first district's name\n"
      ],
      "metadata": {
        "colab": {
          "base_uri": "https://localhost:8080/"
        },
        "id": "TD0-0olKg8il",
        "outputId": "7ffe275c-ec8b-40ad-df2c-4099ae1d596a"
      },
      "execution_count": 25,
      "outputs": [
        {
          "output_type": "stream",
          "name": "stdout",
          "text": [
            "پنجاب\n"
          ]
        }
      ]
    },
    {
      "cell_type": "markdown",
      "source": [],
      "metadata": {
        "id": "5kblILuTj9hQ"
      }
    },
    {
      "cell_type": "code",
      "source": [
        "!pip install docarray"
      ],
      "metadata": {
        "colab": {
          "base_uri": "https://localhost:8080/"
        },
        "id": "YqrDKK0DjsgG",
        "outputId": "3335adc5-cc20-407d-ed2c-a46cbe45f2b3"
      },
      "execution_count": 12,
      "outputs": [
        {
          "output_type": "stream",
          "name": "stdout",
          "text": [
            "Collecting docarray\n",
            "  Downloading docarray-0.40.0-py3-none-any.whl.metadata (36 kB)\n",
            "Requirement already satisfied: numpy>=1.17.3 in /usr/local/lib/python3.10/dist-packages (from docarray) (1.26.4)\n",
            "Requirement already satisfied: orjson>=3.8.2 in /usr/local/lib/python3.10/dist-packages (from docarray) (3.10.12)\n",
            "Requirement already satisfied: pydantic>=1.10.8 in /usr/local/lib/python3.10/dist-packages (from docarray) (2.10.3)\n",
            "Requirement already satisfied: rich>=13.1.0 in /usr/local/lib/python3.10/dist-packages (from docarray) (13.9.4)\n",
            "Collecting types-requests>=2.28.11.6 (from docarray)\n",
            "  Downloading types_requests-2.32.0.20241016-py3-none-any.whl.metadata (1.9 kB)\n",
            "Requirement already satisfied: typing-inspect>=0.8.0 in /usr/local/lib/python3.10/dist-packages (from docarray) (0.9.0)\n",
            "Requirement already satisfied: annotated-types>=0.6.0 in /usr/local/lib/python3.10/dist-packages (from pydantic>=1.10.8->docarray) (0.7.0)\n",
            "Requirement already satisfied: pydantic-core==2.27.1 in /usr/local/lib/python3.10/dist-packages (from pydantic>=1.10.8->docarray) (2.27.1)\n",
            "Requirement already satisfied: typing-extensions>=4.12.2 in /usr/local/lib/python3.10/dist-packages (from pydantic>=1.10.8->docarray) (4.12.2)\n",
            "Requirement already satisfied: markdown-it-py>=2.2.0 in /usr/local/lib/python3.10/dist-packages (from rich>=13.1.0->docarray) (3.0.0)\n",
            "Requirement already satisfied: pygments<3.0.0,>=2.13.0 in /usr/local/lib/python3.10/dist-packages (from rich>=13.1.0->docarray) (2.18.0)\n",
            "Requirement already satisfied: urllib3>=2 in /usr/local/lib/python3.10/dist-packages (from types-requests>=2.28.11.6->docarray) (2.2.3)\n",
            "Requirement already satisfied: mypy-extensions>=0.3.0 in /usr/local/lib/python3.10/dist-packages (from typing-inspect>=0.8.0->docarray) (1.0.0)\n",
            "Requirement already satisfied: mdurl~=0.1 in /usr/local/lib/python3.10/dist-packages (from markdown-it-py>=2.2.0->rich>=13.1.0->docarray) (0.1.2)\n",
            "Downloading docarray-0.40.0-py3-none-any.whl (270 kB)\n",
            "\u001b[2K   \u001b[90m━━━━━━━━━━━━━━━━━━━━━━━━━━━━━━━━━━━━━━━━\u001b[0m \u001b[32m270.2/270.2 kB\u001b[0m \u001b[31m7.0 MB/s\u001b[0m eta \u001b[36m0:00:00\u001b[0m\n",
            "\u001b[?25hDownloading types_requests-2.32.0.20241016-py3-none-any.whl (15 kB)\n",
            "Installing collected packages: types-requests, docarray\n",
            "Successfully installed docarray-0.40.0 types-requests-2.32.0.20241016\n"
          ]
        }
      ]
    },
    {
      "cell_type": "code",
      "source": [
        "# Extract relevant documents (service names and descriptions)\n",
        "documents = [\n",
        "    f\"Service Name: {entry['service_name']}\\nDescription: {entry['description']}\"\n",
        "    for entry in data if 'service_name' in entry\n",
        "]\n",
        "\n",
        "# Check the first few documents to confirm extraction\n",
        "print(documents[:2])\n"
      ],
      "metadata": {
        "colab": {
          "base_uri": "https://localhost:8080/"
        },
        "id": "Y23nHN1ljF_C",
        "outputId": "05ff3a0d-6e95-4953-b147-3c9b3cbf16d7"
      },
      "execution_count": 52,
      "outputs": [
        {
          "output_type": "stream",
          "name": "stdout",
          "text": [
            "['Service Name: کریکٹر سرٹیفیکیٹ\\nDescription: با ہر کے ممالک جانے کے لیے، باہر کے مختلف اداروں میں ملازمت حاصل کرنے کےلیے اور وطن بدلی کے لیے پولیس کریکٹر سرٹیفیکیٹ کی ضرورت پڑتی ہے۔', 'Service Name: پولیس ویریفیکیشن\\nDescription: پاکستان کے مختلف اداروں میں ملازمت کی درخواست کے لیے پولیس ریکارڈ کی عمومی تصدیق ضروری ہوتی ہے۔']\n"
          ]
        }
      ]
    },
    {
      "cell_type": "code",
      "source": [
        "from sentence_transformers import SentenceTransformer\n",
        "\n",
        "# Use a multilingual model that supports Urdu\n",
        "embedding_model = SentenceTransformer('distiluse-base-multilingual-cased-v1')\n",
        "\n",
        "# Generate embeddings for the documents\n",
        "document_embeddings = embedding_model.encode(documents)\n",
        "\n",
        "# Check the first few embeddings\n",
        "print(document_embeddings[:2])  # Print the first two embeddings for inspection\n"
      ],
      "metadata": {
        "colab": {
          "base_uri": "https://localhost:8080/"
        },
        "id": "3Ufl7wMJg9_B",
        "outputId": "a853e025-c846-49a5-f602-da638bb164d4"
      },
      "execution_count": 53,
      "outputs": [
        {
          "output_type": "stream",
          "name": "stdout",
          "text": [
            "[[ 0.01890766  0.0707453   0.02207121 ...  0.03602402 -0.02189512\n",
            "  -0.00826337]\n",
            " [ 0.03245357  0.04563726 -0.00271938 ...  0.04700581 -0.0165838\n",
            "  -0.01438065]]\n"
          ]
        }
      ]
    },
    {
      "cell_type": "code",
      "source": [
        "from langchain.document_loaders import TextLoader\n",
        "from langchain.vectorstores import FAISS\n",
        "from langchain.embeddings import HuggingFaceEmbeddings\n",
        "from langchain.chains import RetrievalQA\n",
        "from transformers import AutoTokenizer, AutoModelForCausalLM, pipeline\n",
        "from langchain.llms import HuggingFacePipeline\n",
        "from langchain.prompts import PromptTemplate\n",
        "from langchain.text_splitter import CharacterTextSplitter\n",
        "import json\n",
        "\n",
        "# Step 1: Load and preprocess data\n",
        "file_path = \"data.json\"  # Replace with your JSON file path\n",
        "with open(file_path, \"r\", encoding=\"utf-8\") as f:\n",
        "    data = json.load(f)\n",
        "\n",
        "texts = []\n",
        "for entry in data:\n",
        "    district = entry.get(\"district\", \"\")\n",
        "    details = entry.get(\"details\", {})\n",
        "    text = f\"District: {district}\\n\"\n",
        "    for key, value in details.items():\n",
        "        text += f\"{key.capitalize()}: {value}\\n\"\n",
        "    texts.append(text)\n",
        "\n",
        "splitter = CharacterTextSplitter(separator=\"\\n\", chunk_size=1000, chunk_overlap=100)\n",
        "documents = splitter.create_documents(texts)\n",
        "\n",
        "# Step 2: Initialize embeddings and vector store\n",
        "model_name = \"sentence-transformers/paraphrase-multilingual-mpnet-base-v2\"\n",
        "embeddings = HuggingFaceEmbeddings(model_name=model_name)\n",
        "\n",
        "vectorstore = FAISS.from_documents(documents, embeddings)\n",
        "retriever = vectorstore.as_retriever(search_kwargs={\"k\": 5})\n",
        "\n",
        "# Step 3: Initialize open-source LLM\n",
        "model_name = \"EleutherAI/gpt-neo-125M\"  # Replace with better Urdu model if available\n",
        "tokenizer = AutoTokenizer.from_pretrained(model_name)\n",
        "model = AutoModelForCausalLM.from_pretrained(model_name)\n",
        "generator = pipeline(\n",
        "    \"text-generation\",\n",
        "    model=model,\n",
        "    tokenizer=tokenizer,\n",
        "    max_new_tokens=50,  # Specifies tokens to generate instead of total length\n",
        "    pad_token_id=tokenizer.eos_token_id  # Prevent padding issues\n",
        ")\n",
        "llm = HuggingFacePipeline(pipeline=generator)\n",
        "\n",
        "# Step 4: Define prompt for question answering\n",
        "qa_prompt = PromptTemplate(\n",
        "    input_variables=[\"context\", \"question\"],\n",
        "    template=\"Answer the question using the context below. Only use the provided context:\\n\\n{context}\\n\\nQuestion: {question}\"\n",
        ")\n",
        "\n",
        "# Step 5: Setup Retrieval-based QA Chain\n",
        "qa_chain = RetrievalQA.from_chain_type(\n",
        "    llm=llm,\n",
        "    retriever=retriever,\n",
        "    chain_type=\"stuff\",\n",
        "    chain_type_kwargs={\"prompt\": qa_prompt},\n",
        "    return_source_documents=False\n",
        ")\n",
        "\n",
        "\n",
        "# # Step 6: Interaction loop\n",
        "# print(\"Chatbot setup complete. You can start querying.\")\n",
        "# while True:\n",
        "#     query = input(\"\\nUser: \")\n",
        "#     if query.lower() in [\"exit\", \"quit\"]:\n",
        "#         print(\"Exiting chatbot. Goodbye!\")\n",
        "#         break\n",
        "#     response = qa_chain.invoke({\"query\": query})  # Use invoke instead of run\n",
        "#     result = response[\"result\"] if \"result\" in response else \"No answer found.\"\n",
        "#     print(\"\\nBot:\", result)\n",
        "\n"
      ],
      "metadata": {
        "colab": {
          "base_uri": "https://localhost:8080/",
          "height": 1000
        },
        "id": "CHf2UHgCstFZ",
        "outputId": "b5b923e2-c363-43d3-e9f4-b80708177181"
      },
      "execution_count": 122,
      "outputs": [
        {
          "output_type": "stream",
          "name": "stderr",
          "text": [
            "Device set to use cpu\n"
          ]
        },
        {
          "output_type": "stream",
          "name": "stdout",
          "text": [
            "Chatbot setup complete. You can start querying.\n",
            "\n",
            "User: لاہور کے پولیس خدمت مرکز کا پتہ کیا ہے؟\n",
            "\n",
            "Bot: Answer the question using the context below. Only use the provided context:\n",
            "\n",
            "District: لاہور 5\n",
            "Address: پولیس خدمت مرکز سروس سیکٹر A، بحریہ ٹاؤن، لاہور\n",
            "Email: pkm.lahore@punjabpolice.gov.pk\n",
            "Phone: 04235454046\n",
            "Operational_info: پیر تا ہفتہ - صبح 9 تا شام 5 بجے تک، اتوار - بند\n",
            "Opening_date: 19/6/2020\n",
            "Location: نقشہ پر لوکیشن\n",
            "\n",
            "District: لاہور 4\n",
            "Address: پولیس خدمت مرکز گیٹ نمبر 5 گریٹر اقبال پارک نزد لیڈی ولنگڈن لاہور\n",
            "Email: pkm.lahore@punjabpolice.gov.pk\n",
            "Phone: 04299214847\n",
            "Operational_info: پیر تا ہفتہ - صبح 9 تا شام 5 بجے تک، اتوار - بند\n",
            "Opening_date: 07/17/2019\n",
            "Location: نقشہ پر لوکیشن\n",
            "\n",
            "District: لاہور 8\n",
            "Address: ای الخدمت مرکز، لاہور II ٹاؤن ہال لوئر مال، انارکلی، لاہور، پنجاب\n",
            "Email: pkm.lahore@punjabpolice.gov.pk\n",
            "Phone: +92-42-99214572\n",
            "Operational_info: پیر تا ہفتہ - صبح 9 تا شام 5 بجے تک، اتوار - بند\n",
            "Opening_date: 20/8/2020\n",
            "Location: نقشہ پر لوکیشن\n",
            "\n",
            "District: لاہور 2\n",
            "Address: لبرٹی پارکنگ کے قریب، گلبرگ 3، لاہور\n",
            "Email: pkm.lahore@punjabpolice.gov.pk\n",
            "Phone: 04299268285\n",
            "Operational_info: پیر تا ہفتہ - صبح 9 تا شام 5 بجے تک، اتوار - بند\n",
            "Opening_date: 3/1/2014\n",
            "Location: نقشہ پر لوکیشن\n",
            "\n",
            "District: لاہور 1\n",
            "Address: ڈی جی آپریشنز آفس، لاہور\n",
            "Email: pkm.lahore@punjabpolice.gov.pk\n",
            "Phone: 04299214847\n",
            "Operational_info: پیر تا ہفتہ - صبح 9 تا شام 5 بجے تک، اتوار - بند\n",
            "Opening_date: 10/12/2015\n",
            "Location: نقشہ پر لوکیشن\n",
            "\n",
            "Question: لاہور کے پولیس خدمت مرکز کا پتہ کیا ہے؟\n",
            "\n",
            "District: لاہور 2\n",
            "Address: لبرٹی پارکنگ کے قریب، گلب\n"
          ]
        },
        {
          "output_type": "error",
          "ename": "KeyboardInterrupt",
          "evalue": "Interrupted by user",
          "traceback": [
            "\u001b[0;31m---------------------------------------------------------------------------\u001b[0m",
            "\u001b[0;31mKeyboardInterrupt\u001b[0m                         Traceback (most recent call last)",
            "\u001b[0;32m<ipython-input-122-69edf88418bf>\u001b[0m in \u001b[0;36m<cell line: 66>\u001b[0;34m()\u001b[0m\n\u001b[1;32m     65\u001b[0m \u001b[0mprint\u001b[0m\u001b[0;34m(\u001b[0m\u001b[0;34m\"Chatbot setup complete. You can start querying.\"\u001b[0m\u001b[0;34m)\u001b[0m\u001b[0;34m\u001b[0m\u001b[0;34m\u001b[0m\u001b[0m\n\u001b[1;32m     66\u001b[0m \u001b[0;32mwhile\u001b[0m \u001b[0;32mTrue\u001b[0m\u001b[0;34m:\u001b[0m\u001b[0;34m\u001b[0m\u001b[0;34m\u001b[0m\u001b[0m\n\u001b[0;32m---> 67\u001b[0;31m     \u001b[0mquery\u001b[0m \u001b[0;34m=\u001b[0m \u001b[0minput\u001b[0m\u001b[0;34m(\u001b[0m\u001b[0;34m\"\\nUser: \"\u001b[0m\u001b[0;34m)\u001b[0m\u001b[0;34m\u001b[0m\u001b[0;34m\u001b[0m\u001b[0m\n\u001b[0m\u001b[1;32m     68\u001b[0m     \u001b[0;32mif\u001b[0m \u001b[0mquery\u001b[0m\u001b[0;34m.\u001b[0m\u001b[0mlower\u001b[0m\u001b[0;34m(\u001b[0m\u001b[0;34m)\u001b[0m \u001b[0;32min\u001b[0m \u001b[0;34m[\u001b[0m\u001b[0;34m\"exit\"\u001b[0m\u001b[0;34m,\u001b[0m \u001b[0;34m\"quit\"\u001b[0m\u001b[0;34m]\u001b[0m\u001b[0;34m:\u001b[0m\u001b[0;34m\u001b[0m\u001b[0;34m\u001b[0m\u001b[0m\n\u001b[1;32m     69\u001b[0m         \u001b[0mprint\u001b[0m\u001b[0;34m(\u001b[0m\u001b[0;34m\"Exiting chatbot. Goodbye!\"\u001b[0m\u001b[0;34m)\u001b[0m\u001b[0;34m\u001b[0m\u001b[0;34m\u001b[0m\u001b[0m\n",
            "\u001b[0;32m/usr/local/lib/python3.10/dist-packages/ipykernel/kernelbase.py\u001b[0m in \u001b[0;36mraw_input\u001b[0;34m(self, prompt)\u001b[0m\n\u001b[1;32m    849\u001b[0m                 \u001b[0;34m\"raw_input was called, but this frontend does not support input requests.\"\u001b[0m\u001b[0;34m\u001b[0m\u001b[0;34m\u001b[0m\u001b[0m\n\u001b[1;32m    850\u001b[0m             )\n\u001b[0;32m--> 851\u001b[0;31m         return self._input_request(str(prompt),\n\u001b[0m\u001b[1;32m    852\u001b[0m             \u001b[0mself\u001b[0m\u001b[0;34m.\u001b[0m\u001b[0m_parent_ident\u001b[0m\u001b[0;34m,\u001b[0m\u001b[0;34m\u001b[0m\u001b[0;34m\u001b[0m\u001b[0m\n\u001b[1;32m    853\u001b[0m             \u001b[0mself\u001b[0m\u001b[0;34m.\u001b[0m\u001b[0m_parent_header\u001b[0m\u001b[0;34m,\u001b[0m\u001b[0;34m\u001b[0m\u001b[0;34m\u001b[0m\u001b[0m\n",
            "\u001b[0;32m/usr/local/lib/python3.10/dist-packages/ipykernel/kernelbase.py\u001b[0m in \u001b[0;36m_input_request\u001b[0;34m(self, prompt, ident, parent, password)\u001b[0m\n\u001b[1;32m    893\u001b[0m             \u001b[0;32mexcept\u001b[0m \u001b[0mKeyboardInterrupt\u001b[0m\u001b[0;34m:\u001b[0m\u001b[0;34m\u001b[0m\u001b[0;34m\u001b[0m\u001b[0m\n\u001b[1;32m    894\u001b[0m                 \u001b[0;31m# re-raise KeyboardInterrupt, to truncate traceback\u001b[0m\u001b[0;34m\u001b[0m\u001b[0;34m\u001b[0m\u001b[0m\n\u001b[0;32m--> 895\u001b[0;31m                 \u001b[0;32mraise\u001b[0m \u001b[0mKeyboardInterrupt\u001b[0m\u001b[0;34m(\u001b[0m\u001b[0;34m\"Interrupted by user\"\u001b[0m\u001b[0;34m)\u001b[0m \u001b[0;32mfrom\u001b[0m \u001b[0;32mNone\u001b[0m\u001b[0;34m\u001b[0m\u001b[0;34m\u001b[0m\u001b[0m\n\u001b[0m\u001b[1;32m    896\u001b[0m             \u001b[0;32mexcept\u001b[0m \u001b[0mException\u001b[0m \u001b[0;32mas\u001b[0m \u001b[0me\u001b[0m\u001b[0;34m:\u001b[0m\u001b[0;34m\u001b[0m\u001b[0;34m\u001b[0m\u001b[0m\n\u001b[1;32m    897\u001b[0m                 \u001b[0mself\u001b[0m\u001b[0;34m.\u001b[0m\u001b[0mlog\u001b[0m\u001b[0;34m.\u001b[0m\u001b[0mwarning\u001b[0m\u001b[0;34m(\u001b[0m\u001b[0;34m\"Invalid Message:\"\u001b[0m\u001b[0;34m,\u001b[0m \u001b[0mexc_info\u001b[0m\u001b[0;34m=\u001b[0m\u001b[0;32mTrue\u001b[0m\u001b[0;34m)\u001b[0m\u001b[0;34m\u001b[0m\u001b[0;34m\u001b[0m\u001b[0m\n",
            "\u001b[0;31mKeyboardInterrupt\u001b[0m: Interrupted by user"
          ]
        }
      ]
    },
    {
      "cell_type": "code",
      "source": [
        "import os  # اسکرین صاف کرنے کے لیے\n",
        "import re  # اردو ٹیکسٹ کی تصدیق کے لیے\n",
        "\n",
        "# اردو ٹیکسٹ کی تصدیق کرنے کا فنکشن\n",
        "def is_urdu_text(input_text):\n",
        "    urdu_pattern = re.compile(r'^[\\u0600-\\u06FF\\s]+$')\n",
        "    return bool(urdu_pattern.match(input_text))\n",
        "\n",
        "# اسکرین صاف کرنے کا فنکشن\n",
        "def clear_screen():\n",
        "    os.system('cls' if os.name == 'nt' else 'clear')\n",
        "\n",
        "# چیٹ بوٹ کا انٹرایکشن لوپ\n",
        "clear_screen()  # اسکرین صاف کریں\n",
        "print(\"بوٹ: السلام علیکم! میں آپ کی کیسے مدد کرسکتا ہوں؟\")  # اسلامی سلام\n",
        "\n",
        "while True:\n",
        "    query = input(\"\\nآپ: \")  # صارف سے ان پٹ لینا\n",
        "\n",
        "    # چیٹ بوٹ بند کرنے کے لیے\n",
        "    if query.strip() in [\"خروج\", \"بند\", \"اختتام\"]:\n",
        "        print(\"بوٹ: اللہ حافظ! دعا میں یاد رکھیں۔\")\n",
        "        break\n",
        "\n",
        "    # غیر اردو انپٹ کی ہینڈلنگ\n",
        "    if not is_urdu_text(query):\n",
        "        print(\"\\nبوٹ: معاف کیجیے! یہ بوٹ صرف اردو میں سوالات قبول کرتا ہے۔\")\n",
        "        continue\n",
        "\n",
        "    # سوال پر پراسیسنگ\n",
        "    try:\n",
        "        response = qa_chain.invoke({\"query\": query})  # سوال کا جواب حاصل کریں\n",
        "        result = response[\"result\"] if \"result\" in response else \"معاف کیجیے، اس سوال کے لیے مرکز کی معلومات میسر نہیں۔\"\n",
        "\n",
        "        if not result.strip():\n",
        "            print(\"\\nبوٹ: معاف کیجیے، میری معلومات مخصوص ویب سائٹ کی حد تک محدود ہے۔\")\n",
        "        else:\n",
        "            print(f\"\\nبوٹ: {result}\")\n",
        "    except Exception as e:\n",
        "        print(\"\\nبوٹ: معاف کیجیے، کچھ غلط ہوا۔ براہ کرم دوبارہ کوشش کریں۔\")\n"
      ],
      "metadata": {
        "colab": {
          "base_uri": "https://localhost:8080/"
        },
        "id": "f-WcmjCzNdCO",
        "outputId": "20571642-d29d-4ea6-db59-ae66a60ff781"
      },
      "execution_count": 125,
      "outputs": [
        {
          "output_type": "stream",
          "name": "stdout",
          "text": [
            "بوٹ: السلام علیکم! میں آپ کی کیسے مدد کرسکتا ہوں؟\n",
            "\n",
            "آپ: لاہور کے پولیس خدمت مرکز کے اوقات کیا ہیں؟\n",
            "\n",
            "بوٹ: Answer the question using the context below. Only use the provided context:\n",
            "\n",
            "District: لاہور 5\n",
            "Address: پولیس خدمت مرکز سروس سیکٹر A، بحریہ ٹاؤن، لاہور\n",
            "Email: pkm.lahore@punjabpolice.gov.pk\n",
            "Phone: 04235454046\n",
            "Operational_info: پیر تا ہفتہ - صبح 9 تا شام 5 بجے تک، اتوار - بند\n",
            "Opening_date: 19/6/2020\n",
            "Location: نقشہ پر لوکیشن\n",
            "\n",
            "District: لاہور 4\n",
            "Address: پولیس خدمت مرکز گیٹ نمبر 5 گریٹر اقبال پارک نزد لیڈی ولنگڈن لاہور\n",
            "Email: pkm.lahore@punjabpolice.gov.pk\n",
            "Phone: 04299214847\n",
            "Operational_info: پیر تا ہفتہ - صبح 9 تا شام 5 بجے تک، اتوار - بند\n",
            "Opening_date: 07/17/2019\n",
            "Location: نقشہ پر لوکیشن\n",
            "\n",
            "District: لاہور 1\n",
            "Address: ڈی جی آپریشنز آفس، لاہور\n",
            "Email: pkm.lahore@punjabpolice.gov.pk\n",
            "Phone: 04299214847\n",
            "Operational_info: پیر تا ہفتہ - صبح 9 تا شام 5 بجے تک، اتوار - بند\n",
            "Opening_date: 10/12/2015\n",
            "Location: نقشہ پر لوکیشن\n",
            "\n",
            "District: لاہور 2\n",
            "Address: لبرٹی پارکنگ کے قریب، گلبرگ 3، لاہور\n",
            "Email: pkm.lahore@punjabpolice.gov.pk\n",
            "Phone: 04299268285\n",
            "Operational_info: پیر تا ہفتہ - صبح 9 تا شام 5 بجے تک، اتوار - بند\n",
            "Opening_date: 3/1/2014\n",
            "Location: نقشہ پر لوکیشن\n",
            "\n",
            "District: لاہور 8\n",
            "Address: ای الخدمت مرکز، لاہور II ٹاؤن ہال لوئر مال، انارکلی، لاہور، پنجاب\n",
            "Email: pkm.lahore@punjabpolice.gov.pk\n",
            "Phone: +92-42-99214572\n",
            "Operational_info: پیر تا ہفتہ - صبح 9 تا شام 5 بجے تک، اتوار - بند\n",
            "Opening_date: 20/8/2020\n",
            "Location: نقشہ پر لوکیشن\n",
            "\n",
            "Question: لاہور کے پولیس خدمت مرکز کے اوقات کیا ہیں؟\n",
            "\n",
            "District: لاہور 1\n",
            "Address: ڈی جی آپریشنز آپریشنز آ\n",
            "\n",
            "آپ: asdsad\n",
            "\n",
            "بوٹ: معاف کیجیے! یہ بوٹ صرف اردو میں سوالات قبول کرتا ہے۔\n",
            "\n",
            "آپ: لاہور کے پولیس خدمت مرکز کے اوقات کیا ہیں؟\n",
            "\n",
            "بوٹ: Answer the question using the context below. Only use the provided context:\n",
            "\n",
            "District: لاہور 5\n",
            "Address: پولیس خدمت مرکز سروس سیکٹر A، بحریہ ٹاؤن، لاہور\n",
            "Email: pkm.lahore@punjabpolice.gov.pk\n",
            "Phone: 04235454046\n",
            "Operational_info: پیر تا ہفتہ - صبح 9 تا شام 5 بجے تک، اتوار - بند\n",
            "Opening_date: 19/6/2020\n",
            "Location: نقشہ پر لوکیشن\n",
            "\n",
            "District: لاہور 4\n",
            "Address: پولیس خدمت مرکز گیٹ نمبر 5 گریٹر اقبال پارک نزد لیڈی ولنگڈن لاہور\n",
            "Email: pkm.lahore@punjabpolice.gov.pk\n",
            "Phone: 04299214847\n",
            "Operational_info: پیر تا ہفتہ - صبح 9 تا شام 5 بجے تک، اتوار - بند\n",
            "Opening_date: 07/17/2019\n",
            "Location: نقشہ پر لوکیشن\n",
            "\n",
            "District: لاہور 1\n",
            "Address: ڈی جی آپریشنز آفس، لاہور\n",
            "Email: pkm.lahore@punjabpolice.gov.pk\n",
            "Phone: 04299214847\n",
            "Operational_info: پیر تا ہفتہ - صبح 9 تا شام 5 بجے تک، اتوار - بند\n",
            "Opening_date: 10/12/2015\n",
            "Location: نقشہ پر لوکیشن\n",
            "\n",
            "District: لاہور 2\n",
            "Address: لبرٹی پارکنگ کے قریب، گلبرگ 3، لاہور\n",
            "Email: pkm.lahore@punjabpolice.gov.pk\n",
            "Phone: 04299268285\n",
            "Operational_info: پیر تا ہفتہ - صبح 9 تا شام 5 بجے تک، اتوار - بند\n",
            "Opening_date: 3/1/2014\n",
            "Location: نقشہ پر لوکیشن\n",
            "\n",
            "District: لاہور 8\n",
            "Address: ای الخدمت مرکز، لاہور II ٹاؤن ہال لوئر مال، انارکلی، لاہور، پنجاب\n",
            "Email: pkm.lahore@punjabpolice.gov.pk\n",
            "Phone: +92-42-99214572\n",
            "Operational_info: پیر تا ہفتہ - صبح 9 تا شام 5 بجے تک، اتوار - بند\n",
            "Opening_date: 20/8/2020\n",
            "Location: نقشہ پر لوکیشن\n",
            "\n",
            "Question: لاہور کے پولیس خدمت مرکز کے اوقات کیا ہیں؟\n",
            "\n",
            "District: لاہور 1\n",
            "Address: ڈی جی آپریشنز آپریشنز آ\n",
            "\n",
            "آپ: 11\n",
            "\n",
            "بوٹ: معاف کیجیے! یہ بوٹ صرف اردو میں سوالات قبول کرتا ہے۔\n",
            "\n",
            "آپ: بند\n",
            "بوٹ: اللہ حافظ! دعا میں یاد رکھیں۔\n"
          ]
        }
      ]
    },
    {
      "cell_type": "markdown",
      "source": [
        "**Next Level**"
      ],
      "metadata": {
        "id": "HZhRHLbmE-UA"
      }
    }
  ]
}